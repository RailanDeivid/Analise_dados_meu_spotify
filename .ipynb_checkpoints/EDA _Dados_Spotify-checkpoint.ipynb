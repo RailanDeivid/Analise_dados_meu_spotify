{
 "cells": [
  {
   "cell_type": "markdown",
   "metadata": {
    "id": "6kmUYAHRPnIX"
   },
   "source": [
    "# Conhecendo o Dataset"
   ]
  },
  {
   "cell_type": "markdown",
   "metadata": {
    "heading_collapsed": true,
    "id": "7OVwE_hrPnIc"
   },
   "source": [
    "## Entendendo os dados do meu Spotify\n",
    "<hr>\n",
    "\n",
    "### Descrição:\n",
    "<p <p style='font-size: 18px; line-height: 2; margin: 5px 5px; text-align: justify; text-indent:10px;'> Os dados que serão analisados foram tirados do meu spotify, dados esses de tudo que foi reproduzido no periodo de um ano, entre 06/2020 a 06/2021\n",
    "</p>\n",
    "\n",
    "### Dados:\n",
    "* Cada linha da base de dados corresponde a uma musica ou um podcast tocado, cada coluna contém um atributo, sendo eles:\n",
    "\n",
    "     1. **\"endTime\"** Data e hora de quando o stream terminou no formato UTC (fuso horário universal coordenado).\n",
    "     2. **\"artistName\"** Nome do \"criador\" de cada fluxo (por exemplo, o nome do artista, se for uma faixa de música ou nome do podcast).\n",
    "     3. **\"trackName\"** Nome dos itens ouvidos ou assistidos (por exemplo, título da faixa musical ou nome do vídeo). \n",
    "     4. **\"msPlayed\"** Significa quantos milissegundos a faixa foi ouvida. \n"
   ]
  },
  {
   "cell_type": "markdown",
   "metadata": {
    "id": "gw7niRroPnIe"
   },
   "source": [
    "# Importando bibliotecas"
   ]
  },
  {
   "cell_type": "code",
   "execution_count": 1,
   "metadata": {
    "ExecuteTime": {
     "end_time": "2021-10-05T15:33:27.124288Z",
     "start_time": "2021-10-05T15:33:18.022021Z"
    },
    "id": "la0ysT7uPnIf"
   },
   "outputs": [],
   "source": [
    "# Importando as bibliotecas:\n",
    "import pandas as pd\n",
    "import json\n",
    "import datetime\n",
    "%matplotlib inline\n",
    "import matplotlib.pyplot as plt\n",
    "import seaborn as sns\n",
    "from textwrap import wrap\n",
    "\n",
    "# definindo temas da plotagem dos gráficos\n",
    "from jupyterthemes import jtplot\n",
    "jtplot.style(theme='monokai')"
   ]
  },
  {
   "cell_type": "markdown",
   "metadata": {
    "id": "PjoF9tpePnIg"
   },
   "source": [
    "# Importando dados"
   ]
  },
  {
   "cell_type": "markdown",
   "metadata": {
    "id": "JKHI_KAnPnIg"
   },
   "source": [
    "* Ao usar a função automática para baixar os dados do Spotify, recebi vários arquivos no formato JSON, dentre eles, 4 arquivos chamados 'Streaming History', que são os dados de audio e podcasts,  schei melhor juntá-los em um unico arquivo no formato csv."
   ]
  },
  {
   "cell_type": "code",
   "execution_count": 2,
   "metadata": {
    "ExecuteTime": {
     "end_time": "2021-10-05T15:33:27.234012Z",
     "start_time": "2021-10-05T15:33:27.130201Z"
    },
    "id": "INeFiz9YPnIg"
   },
   "outputs": [],
   "source": [
    "spotify = pd.read_csv('data/spotify_Streaming_History.csv')"
   ]
  },
  {
   "cell_type": "markdown",
   "metadata": {
    "id": "ip4IT43EPnIg"
   },
   "source": [
    "# Entendendo os dados"
   ]
  },
  {
   "cell_type": "code",
   "execution_count": 3,
   "metadata": {
    "ExecuteTime": {
     "end_time": "2021-10-05T15:33:27.313242Z",
     "start_time": "2021-10-05T15:33:27.239924Z"
    },
    "id": "O5_3So6wPnIh",
    "outputId": "08b369eb-e78f-424f-b866-886a5fddd193"
   },
   "outputs": [
    {
     "data": {
      "text/html": [
       "<div>\n",
       "<style scoped>\n",
       "    .dataframe tbody tr th:only-of-type {\n",
       "        vertical-align: middle;\n",
       "    }\n",
       "\n",
       "    .dataframe tbody tr th {\n",
       "        vertical-align: top;\n",
       "    }\n",
       "\n",
       "    .dataframe thead th {\n",
       "        text-align: right;\n",
       "    }\n",
       "</style>\n",
       "<table border=\"1\" class=\"dataframe\">\n",
       "  <thead>\n",
       "    <tr style=\"text-align: right;\">\n",
       "      <th></th>\n",
       "      <th>endTime</th>\n",
       "      <th>artistName</th>\n",
       "      <th>trackName</th>\n",
       "      <th>msPlayed</th>\n",
       "    </tr>\n",
       "  </thead>\n",
       "  <tbody>\n",
       "    <tr>\n",
       "      <th>4984</th>\n",
       "      <td>2020-09-03 22:40</td>\n",
       "      <td>The Beatles</td>\n",
       "      <td>All I've Got To Do - Remastered 2009</td>\n",
       "      <td>1391</td>\n",
       "    </tr>\n",
       "    <tr>\n",
       "      <th>319</th>\n",
       "      <td>2020-06-29 01:12</td>\n",
       "      <td>AC/DC</td>\n",
       "      <td>Big Gun</td>\n",
       "      <td>520</td>\n",
       "    </tr>\n",
       "    <tr>\n",
       "      <th>22245</th>\n",
       "      <td>2021-03-22 23:30</td>\n",
       "      <td>AC/DC</td>\n",
       "      <td>If You Want Blood (You've Got It)</td>\n",
       "      <td>1462</td>\n",
       "    </tr>\n",
       "    <tr>\n",
       "      <th>1896</th>\n",
       "      <td>2020-07-21 11:43</td>\n",
       "      <td>Do Zero ao Topo</td>\n",
       "      <td>#52 - Bacio di Latte: a sorveteria que fatura ...</td>\n",
       "      <td>537640</td>\n",
       "    </tr>\n",
       "    <tr>\n",
       "      <th>30454</th>\n",
       "      <td>2021-06-19 23:43</td>\n",
       "      <td>Dadá Boladão</td>\n",
       "      <td>Surtada - Remix Brega Funk</td>\n",
       "      <td>1114</td>\n",
       "    </tr>\n",
       "  </tbody>\n",
       "</table>\n",
       "</div>"
      ],
      "text/plain": [
       "                endTime       artistName  \\\n",
       "4984   2020-09-03 22:40      The Beatles   \n",
       "319    2020-06-29 01:12            AC/DC   \n",
       "22245  2021-03-22 23:30            AC/DC   \n",
       "1896   2020-07-21 11:43  Do Zero ao Topo   \n",
       "30454  2021-06-19 23:43     Dadá Boladão   \n",
       "\n",
       "                                               trackName  msPlayed  \n",
       "4984                All I've Got To Do - Remastered 2009      1391  \n",
       "319                                              Big Gun       520  \n",
       "22245                  If You Want Blood (You've Got It)      1462  \n",
       "1896   #52 - Bacio di Latte: a sorveteria que fatura ...    537640  \n",
       "30454                         Surtada - Remix Brega Funk      1114  "
      ]
     },
     "execution_count": 3,
     "metadata": {},
     "output_type": "execute_result"
    }
   ],
   "source": [
    "# visualizando 5 dados aleatórios\n",
    "spotify.sample(5)"
   ]
  },
  {
   "cell_type": "code",
   "execution_count": 4,
   "metadata": {
    "ExecuteTime": {
     "end_time": "2021-10-05T15:33:27.377074Z",
     "start_time": "2021-10-05T15:33:27.318232Z"
    },
    "id": "vwZDQJ-dPnIi",
    "outputId": "4f8b8de1-e996-405e-eb24-2a744cb2bfe8"
   },
   "outputs": [
    {
     "name": "stdout",
     "output_type": "stream",
     "text": [
      "<class 'pandas.core.frame.DataFrame'>\n",
      "RangeIndex: 31245 entries, 0 to 31244\n",
      "Data columns (total 4 columns):\n",
      " #   Column      Non-Null Count  Dtype \n",
      "---  ------      --------------  ----- \n",
      " 0   endTime     31245 non-null  object\n",
      " 1   artistName  31245 non-null  object\n",
      " 2   trackName   31245 non-null  object\n",
      " 3   msPlayed    31245 non-null  int64 \n",
      "dtypes: int64(1), object(3)\n",
      "memory usage: 976.5+ KB\n"
     ]
    }
   ],
   "source": [
    "# visualizando informações gerais dos dados\n",
    "spotify.info()"
   ]
  },
  {
   "cell_type": "markdown",
   "metadata": {
    "id": "WIlTKNbOPnIj"
   },
   "source": [
    "## Verificando tamanho da base de dados e se há dados nulos"
   ]
  },
  {
   "cell_type": "code",
   "execution_count": 5,
   "metadata": {
    "ExecuteTime": {
     "end_time": "2021-10-05T15:33:27.407508Z",
     "start_time": "2021-10-05T15:33:27.383058Z"
    },
    "id": "FZ_gJ1NEPnIk",
    "outputId": "72e1030a-1def-412b-a93e-eb4758ab4bab"
   },
   "outputs": [
    {
     "name": "stdout",
     "output_type": "stream",
     "text": [
      "31245 Linhas e 4 colunas\n",
      "Quantidade de dados nulos: 0\n"
     ]
    }
   ],
   "source": [
    "print('{} Linhas e {} colunas'.format(spotify.shape[0], spotify.shape[1]))\n",
    "print('Quantidade de dados nulos:', spotify.isna().sum().sum())"
   ]
  },
  {
   "cell_type": "markdown",
   "metadata": {
    "id": "QrnHg0lpQCfg"
   },
   "source": [
    "* Como verificado acima a base de dados não contém dados nulos, diante disso iremos seguir normalmente com as analises."
   ]
  },
  {
   "cell_type": "code",
   "execution_count": 6,
   "metadata": {
    "ExecuteTime": {
     "end_time": "2021-10-05T15:33:27.438423Z",
     "start_time": "2021-10-05T15:33:27.414488Z"
    },
    "id": "YoAOakoiPnIk",
    "outputId": "de1ce016-c5ca-4f8c-f72b-e3f23d799fed",
    "scrolled": false
   },
   "outputs": [
    {
     "data": {
      "text/plain": [
       "endTime       object\n",
       "artistName    object\n",
       "trackName     object\n",
       "msPlayed       int64\n",
       "dtype: object"
      ]
     },
     "execution_count": 6,
     "metadata": {},
     "output_type": "execute_result"
    }
   ],
   "source": [
    "# tipos de cada coluna\n",
    "spotify.dtypes"
   ]
  },
  {
   "cell_type": "markdown",
   "metadata": {
    "id": "COjzNFkoPnIk"
   },
   "source": [
    "* Como verificado acima a coluna que contem datas não está no formato datetime, diante disso irei fazer a conversão dessa coluna para tornar melhor as análises futuras."
   ]
  },
  {
   "cell_type": "markdown",
   "metadata": {
    "id": "o6UkRjwxPnIl"
   },
   "source": [
    "## Convertendo coluna 'endTime' para $datetime$"
   ]
  },
  {
   "cell_type": "code",
   "execution_count": 7,
   "metadata": {
    "ExecuteTime": {
     "end_time": "2021-10-05T15:33:27.502253Z",
     "start_time": "2021-10-05T15:33:27.443411Z"
    },
    "id": "tTRw32kOPnIl"
   },
   "outputs": [],
   "source": [
    "spotify['endTime'] = pd.to_datetime(spotify['endTime'])"
   ]
  },
  {
   "cell_type": "code",
   "execution_count": 8,
   "metadata": {
    "ExecuteTime": {
     "end_time": "2021-10-05T15:33:27.533169Z",
     "start_time": "2021-10-05T15:33:27.507241Z"
    },
    "id": "igvQ5WWbPnIl",
    "outputId": "1a9a44f8-aa53-4995-e015-21b7583ed3c4"
   },
   "outputs": [
    {
     "data": {
      "text/plain": [
       "endTime       datetime64[ns]\n",
       "artistName            object\n",
       "trackName             object\n",
       "msPlayed               int64\n",
       "dtype: object"
      ]
     },
     "execution_count": 8,
     "metadata": {},
     "output_type": "execute_result"
    }
   ],
   "source": [
    "spotify.dtypes"
   ]
  },
  {
   "cell_type": "markdown",
   "metadata": {
    "id": "SvKYWB5IPnIl"
   },
   "source": [
    "# Análises"
   ]
  },
  {
   "cell_type": "markdown",
   "metadata": {
    "id": "gguMle0kPnIm"
   },
   "source": [
    "## Verificando quanto tempo de audio foi escutado nesse periodo"
   ]
  },
  {
   "cell_type": "markdown",
   "metadata": {
    "id": "kDhAhR9pPnIm"
   },
   "source": [
    "Lembrando que os dados dessa variável estão sendo contados em **milissegundos**\n",
    "* Para facilitar o entendimento irei criar uma nova coluna onde irá conter os dados em **horas**.\n",
    "<hr>"
   ]
  },
  {
   "cell_type": "code",
   "execution_count": 9,
   "metadata": {
    "ExecuteTime": {
     "end_time": "2021-10-05T15:33:27.596005Z",
     "start_time": "2021-10-05T15:33:27.540151Z"
    },
    "id": "hJ-FwOTjPnIm"
   },
   "outputs": [
    {
     "data": {
      "text/html": [
       "<div>\n",
       "<style scoped>\n",
       "    .dataframe tbody tr th:only-of-type {\n",
       "        vertical-align: middle;\n",
       "    }\n",
       "\n",
       "    .dataframe tbody tr th {\n",
       "        vertical-align: top;\n",
       "    }\n",
       "\n",
       "    .dataframe thead th {\n",
       "        text-align: right;\n",
       "    }\n",
       "</style>\n",
       "<table border=\"1\" class=\"dataframe\">\n",
       "  <thead>\n",
       "    <tr style=\"text-align: right;\">\n",
       "      <th></th>\n",
       "      <th>endTime</th>\n",
       "      <th>artistName</th>\n",
       "      <th>trackName</th>\n",
       "      <th>msPlayed</th>\n",
       "      <th>hours</th>\n",
       "    </tr>\n",
       "  </thead>\n",
       "  <tbody>\n",
       "    <tr>\n",
       "      <th>0</th>\n",
       "      <td>2020-06-23 02:13:00</td>\n",
       "      <td>Skrillex</td>\n",
       "      <td>First of the Year (Equinox)</td>\n",
       "      <td>142280</td>\n",
       "      <td>0.039522</td>\n",
       "    </tr>\n",
       "    <tr>\n",
       "      <th>1</th>\n",
       "      <td>2020-06-23 12:34:00</td>\n",
       "      <td>DESOBEDIÊNCIA PRODUTIVA COM IVAN MORÉ</td>\n",
       "      <td>O QUE SÃO ASSISTENTES DE VOZ? COM CONRADO CAON</td>\n",
       "      <td>1137038</td>\n",
       "      <td>0.315844</td>\n",
       "    </tr>\n",
       "    <tr>\n",
       "      <th>2</th>\n",
       "      <td>2020-06-24 11:37:00</td>\n",
       "      <td>Black Sabbath</td>\n",
       "      <td>Sabbath Bloody Sabbath</td>\n",
       "      <td>347626</td>\n",
       "      <td>0.096563</td>\n",
       "    </tr>\n",
       "    <tr>\n",
       "      <th>3</th>\n",
       "      <td>2020-06-24 11:41:00</td>\n",
       "      <td>Ozzy Osbourne</td>\n",
       "      <td>All My Life</td>\n",
       "      <td>258277</td>\n",
       "      <td>0.071744</td>\n",
       "    </tr>\n",
       "    <tr>\n",
       "      <th>4</th>\n",
       "      <td>2020-06-24 11:41:00</td>\n",
       "      <td>The Rolling Stones</td>\n",
       "      <td>Paint It, Black</td>\n",
       "      <td>22127</td>\n",
       "      <td>0.006146</td>\n",
       "    </tr>\n",
       "  </tbody>\n",
       "</table>\n",
       "</div>"
      ],
      "text/plain": [
       "              endTime                             artistName  \\\n",
       "0 2020-06-23 02:13:00                               Skrillex   \n",
       "1 2020-06-23 12:34:00  DESOBEDIÊNCIA PRODUTIVA COM IVAN MORÉ   \n",
       "2 2020-06-24 11:37:00                          Black Sabbath   \n",
       "3 2020-06-24 11:41:00                          Ozzy Osbourne   \n",
       "4 2020-06-24 11:41:00                     The Rolling Stones   \n",
       "\n",
       "                                        trackName  msPlayed     hours  \n",
       "0                     First of the Year (Equinox)    142280  0.039522  \n",
       "1  O QUE SÃO ASSISTENTES DE VOZ? COM CONRADO CAON   1137038  0.315844  \n",
       "2                          Sabbath Bloody Sabbath    347626  0.096563  \n",
       "3                                     All My Life    258277  0.071744  \n",
       "4                                 Paint It, Black     22127  0.006146  "
      ]
     },
     "execution_count": 9,
     "metadata": {},
     "output_type": "execute_result"
    }
   ],
   "source": [
    "# criando uma nova coluna e atribuindo dados em 'HORAS' a partir da coluna 'msPlayed'\n",
    "spotify['hours'] = spotify['msPlayed'].map(lambda x: x / 3.6e+6)\n",
    "# visualizando dados\n",
    "spotify.head()"
   ]
  },
  {
   "cell_type": "code",
   "execution_count": 10,
   "metadata": {
    "ExecuteTime": {
     "end_time": "2021-10-05T15:33:27.627918Z",
     "start_time": "2021-10-05T15:33:27.604979Z"
    },
    "id": "vnpZ53uJPnIm",
    "outputId": "2377f3dd-f5fd-4145-f4ad-348ffe5d164d",
    "scrolled": true
   },
   "outputs": [
    {
     "name": "stdout",
     "output_type": "stream",
     "text": [
      "Foi escutado um total do de 1015 horas de Musicas/Podcasts, dando um total de 42 dias,\n",
      "escutados entre os dias 23/06/2020 e 24/06/2021\n"
     ]
    }
   ],
   "source": [
    "# verificando quantas horas de audio foram tocadas\n",
    "inicio = spotify.endTime.min().strftime('%d/%m/%Y')\n",
    "fim = spotify.endTime.max().strftime('%d/%m/%Y')\n",
    "\n",
    "print(\n",
    "    'Foi escutado um total do de {} horas de Musicas/Podcasts, dando um total de {} dias,\\nescutados entre os dias {} e {}'\n",
    "    .format(int(spotify['hours'].sum()),\n",
    "            int(spotify['hours'].sum()) // 24, inicio, fim))"
   ]
  },
  {
   "cell_type": "markdown",
   "metadata": {},
   "source": [
    "### Verificando a média diária de horas escutadas."
   ]
  },
  {
   "cell_type": "code",
   "execution_count": 11,
   "metadata": {
    "ExecuteTime": {
     "end_time": "2021-10-05T15:33:27.691751Z",
     "start_time": "2021-10-05T15:33:27.632907Z"
    },
    "scrolled": true
   },
   "outputs": [
    {
     "name": "stdout",
     "output_type": "stream",
     "text": [
      " A média diária de horas escutadas foram de 2.75 e o máximo de horas escutadas em um dia foi de 8.0\n"
     ]
    }
   ],
   "source": [
    "# agrupando dados por data e horas escutadas\n",
    "horas_escutadas_por_dia = spotify.groupby('endTime')[['hours']].sum()\n",
    "# agrupando dados por dias e verificando a média de horas escutadas\n",
    "media_horas_escutadas_por_dia = horas_escutadas_por_dia.resample('d').sum().round().mean()\n",
    "# agrupando dados por dias e verificando o máximo de horas escutadas\n",
    "maximo_horas_escutadas_dia = horas_escutadas_por_dia.resample('d').sum().round().max()\n",
    "print(\n",
    "    ' A média diária de horas escutadas foram de {} e o máximo de horas escutadas em um dia foi de {}'\n",
    "    .format(media_horas_escutadas_por_dia.values[0].round(2),\n",
    "            maximo_horas_escutadas_dia.values[0]))"
   ]
  },
  {
   "cell_type": "markdown",
   "metadata": {},
   "source": [
    "## Verificando se as horas escutadas aumentaram ou diminuíram durante o tempo\n"
   ]
  },
  {
   "cell_type": "code",
   "execution_count": 12,
   "metadata": {
    "ExecuteTime": {
     "end_time": "2021-10-05T15:33:27.707705Z",
     "start_time": "2021-10-05T15:33:27.695734Z"
    },
    "scrolled": true
   },
   "outputs": [
    {
     "data": {
      "text/plain": [
       "0       2020-06-23 02:13:00\n",
       "1       2020-06-23 12:34:00\n",
       "2       2020-06-24 11:37:00\n",
       "3       2020-06-24 11:41:00\n",
       "4       2020-06-24 11:41:00\n",
       "                ...        \n",
       "31240   2021-06-24 13:01:00\n",
       "31241   2021-06-24 13:30:00\n",
       "31242   2021-06-24 19:23:00\n",
       "31243   2021-06-24 22:44:00\n",
       "31244   2021-06-24 23:31:00\n",
       "Name: endTime, Length: 31245, dtype: datetime64[ns]"
      ]
     },
     "execution_count": 12,
     "metadata": {},
     "output_type": "execute_result"
    }
   ],
   "source": [
    "spotify.endTime"
   ]
  },
  {
   "cell_type": "markdown",
   "metadata": {},
   "source": [
    "* **Agrupando os dados com as horas escutadas por mes.**"
   ]
  },
  {
   "cell_type": "code",
   "execution_count": 13,
   "metadata": {
    "ExecuteTime": {
     "end_time": "2021-10-05T15:33:27.755576Z",
     "start_time": "2021-10-05T15:33:27.713690Z"
    }
   },
   "outputs": [
    {
     "data": {
      "text/html": [
       "<div>\n",
       "<style scoped>\n",
       "    .dataframe tbody tr th:only-of-type {\n",
       "        vertical-align: middle;\n",
       "    }\n",
       "\n",
       "    .dataframe tbody tr th {\n",
       "        vertical-align: top;\n",
       "    }\n",
       "\n",
       "    .dataframe thead th {\n",
       "        text-align: right;\n",
       "    }\n",
       "</style>\n",
       "<table border=\"1\" class=\"dataframe\">\n",
       "  <thead>\n",
       "    <tr style=\"text-align: right;\">\n",
       "      <th></th>\n",
       "      <th>hours</th>\n",
       "    </tr>\n",
       "    <tr>\n",
       "      <th>endTime</th>\n",
       "      <th></th>\n",
       "    </tr>\n",
       "  </thead>\n",
       "  <tbody>\n",
       "    <tr>\n",
       "      <th>2020-06-30</th>\n",
       "      <td>9.0</td>\n",
       "    </tr>\n",
       "    <tr>\n",
       "      <th>2020-07-31</th>\n",
       "      <td>67.0</td>\n",
       "    </tr>\n",
       "    <tr>\n",
       "      <th>2020-08-31</th>\n",
       "      <td>49.0</td>\n",
       "    </tr>\n",
       "    <tr>\n",
       "      <th>2020-09-30</th>\n",
       "      <td>76.0</td>\n",
       "    </tr>\n",
       "    <tr>\n",
       "      <th>2020-10-31</th>\n",
       "      <td>85.0</td>\n",
       "    </tr>\n",
       "    <tr>\n",
       "      <th>2020-11-30</th>\n",
       "      <td>87.0</td>\n",
       "    </tr>\n",
       "    <tr>\n",
       "      <th>2020-12-31</th>\n",
       "      <td>99.0</td>\n",
       "    </tr>\n",
       "    <tr>\n",
       "      <th>2021-01-31</th>\n",
       "      <td>100.0</td>\n",
       "    </tr>\n",
       "    <tr>\n",
       "      <th>2021-02-28</th>\n",
       "      <td>64.0</td>\n",
       "    </tr>\n",
       "    <tr>\n",
       "      <th>2021-03-31</th>\n",
       "      <td>111.0</td>\n",
       "    </tr>\n",
       "    <tr>\n",
       "      <th>2021-04-30</th>\n",
       "      <td>90.0</td>\n",
       "    </tr>\n",
       "    <tr>\n",
       "      <th>2021-05-31</th>\n",
       "      <td>97.0</td>\n",
       "    </tr>\n",
       "    <tr>\n",
       "      <th>2021-06-30</th>\n",
       "      <td>81.0</td>\n",
       "    </tr>\n",
       "  </tbody>\n",
       "</table>\n",
       "</div>"
      ],
      "text/plain": [
       "            hours\n",
       "endTime          \n",
       "2020-06-30    9.0\n",
       "2020-07-31   67.0\n",
       "2020-08-31   49.0\n",
       "2020-09-30   76.0\n",
       "2020-10-31   85.0\n",
       "2020-11-30   87.0\n",
       "2020-12-31   99.0\n",
       "2021-01-31  100.0\n",
       "2021-02-28   64.0\n",
       "2021-03-31  111.0\n",
       "2021-04-30   90.0\n",
       "2021-05-31   97.0\n",
       "2021-06-30   81.0"
      ]
     },
     "execution_count": 13,
     "metadata": {},
     "output_type": "execute_result"
    }
   ],
   "source": [
    "# criando uma copia do df\n",
    "df_new = spotify.copy()\n",
    "# setando index a partir da coluna 'endTime'\n",
    "df_new.set_index('endTime', inplace=True)\n",
    "# usando a função .resample para criar o agrupamento por mes\n",
    "horas_escutadas_por_mes = df_new.resample('m')[['hours']].sum().round()\n",
    "# visualizando dados\n",
    "horas_escutadas_por_mes"
   ]
  },
  {
   "cell_type": "markdown",
   "metadata": {},
   "source": [
    "### Visualizando Gráfico do comportamento de horas escutadas."
   ]
  },
  {
   "cell_type": "code",
   "execution_count": 14,
   "metadata": {
    "ExecuteTime": {
     "end_time": "2021-10-05T15:33:28.580762Z",
     "start_time": "2021-10-05T15:33:27.761561Z"
    }
   },
   "outputs": [
    {
     "data": {
      "image/png": "[encoded data removed]",
      "text/plain": [
       "<Figure size 1296x432 with 1 Axes>"
      ]
     },
     "metadata": {},
     "output_type": "display_data"
    }
   ],
   "source": [
    "# setando tamanho do gráfico\n",
    "ax = plt.subplots(figsize=(18, 6))\n",
    "# atribuindo dados ao gráfico\n",
    "ax = sns.lineplot(x='endTime',\n",
    "                  y='hours',\n",
    "                  data=horas_escutadas_por_mes,\n",
    "                  marker='o')\n",
    "# atribuindo titulo\n",
    "ax.set_title('Comportamento de horas escutadas de {} até {}'.format(\n",
    "    inicio[3:], fim[3:]),\n",
    "             fontsize=20)\n",
    "# setando legenda\n",
    "ax.legend(['Horas'], loc='upper right')\n",
    "# titulo label x\n",
    "ax.set_xlabel('Tempo', fontsize=15, labelpad=18)\n",
    "# titulo label y\n",
    "ax.set_ylabel('Horas', fontsize=14)\n",
    "# setando escala da eixo x\n",
    "plt.xticks(horas_escutadas_por_mes.index)\n",
    "# setando escala da eixo y\n",
    "plt.yticks([0, 20, 60, 40, 80, 100, 120])\n",
    "\n",
    "ax = ax\n",
    "\n",
    "# salvando imagem do gráfico\n",
    "plt.savefig('imagens/horas escutadas.png')\n"
   ]
  },
  {
   "cell_type": "markdown",
   "metadata": {
    "id": "bC1WPdfYPnIn"
   },
   "source": [
    "## Verificando horas tocas por Ano"
   ]
  },
  {
   "cell_type": "markdown",
   "metadata": {
    "id": "rXWdDhSUPnIn"
   },
   "source": [
    "* Criando uma nova coluna contendo os anos"
   ]
  },
  {
   "cell_type": "code",
   "execution_count": 15,
   "metadata": {
    "ExecuteTime": {
     "end_time": "2021-10-05T15:33:28.627637Z",
     "start_time": "2021-10-05T15:33:28.587743Z"
    },
    "id": "u0e2TxtxPnIn",
    "outputId": "ac660d27-215e-4c84-ff06-b613b788eee2"
   },
   "outputs": [
    {
     "data": {
      "text/html": [
       "<div>\n",
       "<style scoped>\n",
       "    .dataframe tbody tr th:only-of-type {\n",
       "        vertical-align: middle;\n",
       "    }\n",
       "\n",
       "    .dataframe tbody tr th {\n",
       "        vertical-align: top;\n",
       "    }\n",
       "\n",
       "    .dataframe thead th {\n",
       "        text-align: right;\n",
       "    }\n",
       "</style>\n",
       "<table border=\"1\" class=\"dataframe\">\n",
       "  <thead>\n",
       "    <tr style=\"text-align: right;\">\n",
       "      <th></th>\n",
       "      <th>endTime</th>\n",
       "      <th>artistName</th>\n",
       "      <th>trackName</th>\n",
       "      <th>msPlayed</th>\n",
       "      <th>hours</th>\n",
       "      <th>year</th>\n",
       "    </tr>\n",
       "  </thead>\n",
       "  <tbody>\n",
       "    <tr>\n",
       "      <th>0</th>\n",
       "      <td>2020-06-23 02:13:00</td>\n",
       "      <td>Skrillex</td>\n",
       "      <td>First of the Year (Equinox)</td>\n",
       "      <td>142280</td>\n",
       "      <td>0.039522</td>\n",
       "      <td>2020</td>\n",
       "    </tr>\n",
       "    <tr>\n",
       "      <th>1</th>\n",
       "      <td>2020-06-23 12:34:00</td>\n",
       "      <td>DESOBEDIÊNCIA PRODUTIVA COM IVAN MORÉ</td>\n",
       "      <td>O QUE SÃO ASSISTENTES DE VOZ? COM CONRADO CAON</td>\n",
       "      <td>1137038</td>\n",
       "      <td>0.315844</td>\n",
       "      <td>2020</td>\n",
       "    </tr>\n",
       "    <tr>\n",
       "      <th>2</th>\n",
       "      <td>2020-06-24 11:37:00</td>\n",
       "      <td>Black Sabbath</td>\n",
       "      <td>Sabbath Bloody Sabbath</td>\n",
       "      <td>347626</td>\n",
       "      <td>0.096563</td>\n",
       "      <td>2020</td>\n",
       "    </tr>\n",
       "    <tr>\n",
       "      <th>3</th>\n",
       "      <td>2020-06-24 11:41:00</td>\n",
       "      <td>Ozzy Osbourne</td>\n",
       "      <td>All My Life</td>\n",
       "      <td>258277</td>\n",
       "      <td>0.071744</td>\n",
       "      <td>2020</td>\n",
       "    </tr>\n",
       "    <tr>\n",
       "      <th>4</th>\n",
       "      <td>2020-06-24 11:41:00</td>\n",
       "      <td>The Rolling Stones</td>\n",
       "      <td>Paint It, Black</td>\n",
       "      <td>22127</td>\n",
       "      <td>0.006146</td>\n",
       "      <td>2020</td>\n",
       "    </tr>\n",
       "  </tbody>\n",
       "</table>\n",
       "</div>"
      ],
      "text/plain": [
       "              endTime                             artistName  \\\n",
       "0 2020-06-23 02:13:00                               Skrillex   \n",
       "1 2020-06-23 12:34:00  DESOBEDIÊNCIA PRODUTIVA COM IVAN MORÉ   \n",
       "2 2020-06-24 11:37:00                          Black Sabbath   \n",
       "3 2020-06-24 11:41:00                          Ozzy Osbourne   \n",
       "4 2020-06-24 11:41:00                     The Rolling Stones   \n",
       "\n",
       "                                        trackName  msPlayed     hours  year  \n",
       "0                     First of the Year (Equinox)    142280  0.039522  2020  \n",
       "1  O QUE SÃO ASSISTENTES DE VOZ? COM CONRADO CAON   1137038  0.315844  2020  \n",
       "2                          Sabbath Bloody Sabbath    347626  0.096563  2020  \n",
       "3                                     All My Life    258277  0.071744  2020  \n",
       "4                                 Paint It, Black     22127  0.006146  2020  "
      ]
     },
     "execution_count": 15,
     "metadata": {},
     "output_type": "execute_result"
    }
   ],
   "source": [
    "# criando coluna nov contendo os anos\n",
    "spotify['year'] = spotify['endTime'].dt.year\n",
    "# visualizando dados\n",
    "spotify.head()"
   ]
  },
  {
   "cell_type": "code",
   "execution_count": 16,
   "metadata": {
    "ExecuteTime": {
     "end_time": "2021-10-05T15:33:28.644606Z",
     "start_time": "2021-10-05T15:33:28.632622Z"
    },
    "id": "Fbdf5LIjPnIn",
    "outputId": "8c2ecf0b-95d8-4a68-b163-6a20e99c73b9"
   },
   "outputs": [
    {
     "data": {
      "text/plain": [
       "array([2020, 2021], dtype=int64)"
      ]
     },
     "execution_count": 16,
     "metadata": {},
     "output_type": "execute_result"
    }
   ],
   "source": [
    "spotify['year'].unique()"
   ]
  },
  {
   "cell_type": "markdown",
   "metadata": {
    "id": "P7eAVAMOPnIo"
   },
   "source": [
    "* Criando um df apenas com os anos e as horas tocadas"
   ]
  },
  {
   "cell_type": "code",
   "execution_count": 17,
   "metadata": {
    "ExecuteTime": {
     "end_time": "2021-10-05T15:33:28.690467Z",
     "start_time": "2021-10-05T15:33:28.649579Z"
    },
    "id": "L2mj33sIPnIo",
    "outputId": "506d2ba8-76cb-4c83-d0db-2461ce87af28"
   },
   "outputs": [
    {
     "data": {
      "text/html": [
       "<div>\n",
       "<style scoped>\n",
       "    .dataframe tbody tr th:only-of-type {\n",
       "        vertical-align: middle;\n",
       "    }\n",
       "\n",
       "    .dataframe tbody tr th {\n",
       "        vertical-align: top;\n",
       "    }\n",
       "\n",
       "    .dataframe thead th {\n",
       "        text-align: right;\n",
       "    }\n",
       "</style>\n",
       "<table border=\"1\" class=\"dataframe\">\n",
       "  <thead>\n",
       "    <tr style=\"text-align: right;\">\n",
       "      <th></th>\n",
       "      <th>year</th>\n",
       "      <th>hours</th>\n",
       "    </tr>\n",
       "  </thead>\n",
       "  <tbody>\n",
       "    <tr>\n",
       "      <th>1</th>\n",
       "      <td>2021</td>\n",
       "      <td>543.0</td>\n",
       "    </tr>\n",
       "    <tr>\n",
       "      <th>0</th>\n",
       "      <td>2020</td>\n",
       "      <td>472.0</td>\n",
       "    </tr>\n",
       "  </tbody>\n",
       "</table>\n",
       "</div>"
      ],
      "text/plain": [
       "   year  hours\n",
       "1  2021  543.0\n",
       "0  2020  472.0"
      ]
     },
     "execution_count": 17,
     "metadata": {},
     "output_type": "execute_result"
    }
   ],
   "source": [
    "# agrupando dados por ano\n",
    "horas_tocas_por_Ano = spotify.groupby(['year'])[[\n",
    "    'hours'\n",
    "]].sum().round(0).reset_index().sort_values(by=['hours'], ascending=False)\n",
    "# visualizando dados\n",
    "horas_tocas_por_Ano"
   ]
  },
  {
   "cell_type": "markdown",
   "metadata": {
    "id": "SWRDfgGzPnIo"
   },
   "source": [
    "### Gráficos das horas escutadas por ano\n"
   ]
  },
  {
   "cell_type": "code",
   "execution_count": 18,
   "metadata": {
    "ExecuteTime": {
     "end_time": "2021-10-05T15:33:29.214550Z",
     "start_time": "2021-10-05T15:33:28.695455Z"
    },
    "id": "ljIT9tmKPnIo",
    "outputId": "6d2c85e5-f92f-4da6-b384-09ced3d9c150"
   },
   "outputs": [
    {
     "data": {
      "image/png": "[encoded data removed]",
      "text/plain": [
       "<Figure size 648x489.6 with 1 Axes>"
      ]
     },
     "metadata": {},
     "output_type": "display_data"
    }
   ],
   "source": [
    "# Definindo variáveis\n",
    "anos = horas_tocas_por_Ano.year\n",
    "horas = horas_tocas_por_Ano.hours\n",
    "# setando tamanho do gráfico\n",
    "ax = plt.subplots(figsize=(9, 6.8))\n",
    "# atribuindo dados ao gráfico\n",
    "ax = sns.barplot(x=anos, y=horas, palette=\"Blues_d\")\n",
    "# setando titulo\n",
    "ax = plt.title(\n",
    "    'Foram escutados um total de {} horas de Musicas/Podcasts,\\n entre {} e {}'\n",
    "    .format(int(spotify['hours'].sum().round()), inicio, fim),\n",
    "    fontsize=16)\n",
    "# setando titulo do eixo x\n",
    "ax = plt.xlabel('Ano', fontsize=18)\n",
    "# setando titulo do eixo y\n",
    "ax = plt.ylabel(\"Horas\", fontsize=18)\n",
    "# setando tamanho da fonte do eixo x\n",
    "ax = plt.xticks(size=14)\n",
    "# setando escala da eixo y\n",
    "ax = plt.yticks([0, 100, 200, 300, 400, 500, 600])\n",
    "ax = plt.grid(False)\n",
    "# definindo variáveis de anotações do gráfico\n",
    "n = range(horas_tocas_por_Ano.shape[0])\n",
    "s = horas_tocas_por_Ano.hours\n",
    "# criando função para a visualização dos valores na barra\n",
    "for i in range(len(s)):\n",
    "    plt.annotate(\"{} Horas\\n Tocadas\".format(int(s[i])),\n",
    "                 xy=(n[i], s[i] * 1.0),\n",
    "                 fontsize=14,\n",
    "                 ha='center',\n",
    "                 va='bottom',\n",
    "                 fontweight='bold')\n",
    "#'top', 'bottom', 'center', 'baseline', 'center_baseline'\n",
    "\n",
    "ax = ax\n",
    "\n",
    "# salvando imagem do gráfico\n",
    "plt.savefig('imagens/horas escutadas por anos.png', bbox_inches='tight')\n"
   ]
  },
  {
   "cell_type": "markdown",
   "metadata": {
    "id": "Gtn4wV9YPnIp"
   },
   "source": [
    "## Verificando quais foram as bandas mais escutadas."
   ]
  },
  {
   "cell_type": "markdown",
   "metadata": {},
   "source": [
    "* Para essa análise irei utilizar uma outra base de dados que que contém os dados com os nomes dos artistas e podcasts que escuto."
   ]
  },
  {
   "cell_type": "code",
   "execution_count": 19,
   "metadata": {
    "ExecuteTime": {
     "end_time": "2021-10-05T15:33:29.246463Z",
     "start_time": "2021-10-05T15:33:29.221531Z"
    },
    "id": "3mxilDSaPnIp"
   },
   "outputs": [],
   "source": [
    "# Atribuindo arquivo a uma variável provisória pra leitura\n",
    "file = 'data/YourLibrary.json'\n",
    "# Carregando arquivo\n",
    "with open(file, encoding='utf-8') as data:\n",
    "    data = json.load(data)\n",
    "\n",
    "# criando uma lista apenas com o nome de cada artista usando o método json_normalize\n",
    "artists = pd.json_normalize(data, 'artists')['name'].tolist()"
   ]
  },
  {
   "cell_type": "code",
   "execution_count": 20,
   "metadata": {
    "ExecuteTime": {
     "end_time": "2021-10-05T15:33:29.276384Z",
     "start_time": "2021-10-05T15:33:29.251451Z"
    },
    "id": "PpVJblI8PnIp",
    "outputId": "3fadf34c-e17b-4fdd-bc4d-0e9a23574639",
    "scrolled": false
   },
   "outputs": [
    {
     "name": "stdout",
     "output_type": "stream",
     "text": [
      "['AC/DC', 'Aerosmith', 'Black Sabbath', 'Arctic Monkeys', 'The Doors', 'R.E.M.', 'Engenheiros Do Hawaii', 'Eric Clapton', 'Huey Lewis & The News', 'David Bowie', 'Lynyrd Skynyrd', 'Led Zeppelin', 'Creedence Clearwater Revival', 'Queen', 'Skank', 'The Beatles', 'The Rolling Stones', 'The Who', 'Scorpions', 'Red Hot Chili Peppers', 'Pink Floyd', 'Dire Straits', 'Charlie Brown Jr.', 'CPM 22', 'O Rappa']\n"
     ]
    }
   ],
   "source": [
    "# visualizando lista de artistas\n",
    "print(artists)"
   ]
  },
  {
   "cell_type": "code",
   "execution_count": 21,
   "metadata": {
    "ExecuteTime": {
     "end_time": "2021-10-05T15:33:29.339217Z",
     "start_time": "2021-10-05T15:33:29.281373Z"
    },
    "id": "Tr50SLrWPnIq",
    "outputId": "b89b85e8-9cd2-4385-f2d0-6db10e5af4df"
   },
   "outputs": [
    {
     "data": {
      "text/html": [
       "<div>\n",
       "<style scoped>\n",
       "    .dataframe tbody tr th:only-of-type {\n",
       "        vertical-align: middle;\n",
       "    }\n",
       "\n",
       "    .dataframe tbody tr th {\n",
       "        vertical-align: top;\n",
       "    }\n",
       "\n",
       "    .dataframe thead th {\n",
       "        text-align: right;\n",
       "    }\n",
       "</style>\n",
       "<table border=\"1\" class=\"dataframe\">\n",
       "  <thead>\n",
       "    <tr style=\"text-align: right;\">\n",
       "      <th></th>\n",
       "      <th>artistName</th>\n",
       "      <th>hours</th>\n",
       "    </tr>\n",
       "  </thead>\n",
       "  <tbody>\n",
       "    <tr>\n",
       "      <th>2</th>\n",
       "      <td>Black Sabbath</td>\n",
       "      <td>0.096563</td>\n",
       "    </tr>\n",
       "    <tr>\n",
       "      <th>4</th>\n",
       "      <td>The Rolling Stones</td>\n",
       "      <td>0.006146</td>\n",
       "    </tr>\n",
       "    <tr>\n",
       "      <th>5</th>\n",
       "      <td>The Beatles</td>\n",
       "      <td>0.005418</td>\n",
       "    </tr>\n",
       "    <tr>\n",
       "      <th>6</th>\n",
       "      <td>Led Zeppelin</td>\n",
       "      <td>0.073057</td>\n",
       "    </tr>\n",
       "    <tr>\n",
       "      <th>7</th>\n",
       "      <td>The Rolling Stones</td>\n",
       "      <td>0.000526</td>\n",
       "    </tr>\n",
       "    <tr>\n",
       "      <th>...</th>\n",
       "      <td>...</td>\n",
       "      <td>...</td>\n",
       "    </tr>\n",
       "    <tr>\n",
       "      <th>31237</th>\n",
       "      <td>The Beatles</td>\n",
       "      <td>0.000322</td>\n",
       "    </tr>\n",
       "    <tr>\n",
       "      <th>31238</th>\n",
       "      <td>Pink Floyd</td>\n",
       "      <td>0.190522</td>\n",
       "    </tr>\n",
       "    <tr>\n",
       "      <th>31239</th>\n",
       "      <td>Lynyrd Skynyrd</td>\n",
       "      <td>0.125648</td>\n",
       "    </tr>\n",
       "    <tr>\n",
       "      <th>31240</th>\n",
       "      <td>Black Sabbath</td>\n",
       "      <td>0.096563</td>\n",
       "    </tr>\n",
       "    <tr>\n",
       "      <th>31241</th>\n",
       "      <td>AC/DC</td>\n",
       "      <td>0.042264</td>\n",
       "    </tr>\n",
       "  </tbody>\n",
       "</table>\n",
       "<p>19323 rows × 2 columns</p>\n",
       "</div>"
      ],
      "text/plain": [
       "               artistName     hours\n",
       "2           Black Sabbath  0.096563\n",
       "4      The Rolling Stones  0.006146\n",
       "5             The Beatles  0.005418\n",
       "6            Led Zeppelin  0.073057\n",
       "7      The Rolling Stones  0.000526\n",
       "...                   ...       ...\n",
       "31237         The Beatles  0.000322\n",
       "31238          Pink Floyd  0.190522\n",
       "31239      Lynyrd Skynyrd  0.125648\n",
       "31240       Black Sabbath  0.096563\n",
       "31241               AC/DC  0.042264\n",
       "\n",
       "[19323 rows x 2 columns]"
      ]
     },
     "execution_count": 21,
     "metadata": {},
     "output_type": "execute_result"
    }
   ],
   "source": [
    "# criando um novo df a partir de uma query \n",
    "top_10_bandas = spotify.query(f'artistName == {artists}')[[\n",
    "    'artistName', 'hours'\n",
    "]]\n",
    "# visualizando os dados\n",
    "top_10_bandas"
   ]
  },
  {
   "cell_type": "code",
   "execution_count": 22,
   "metadata": {
    "ExecuteTime": {
     "end_time": "2021-10-05T15:33:29.387089Z",
     "start_time": "2021-10-05T15:33:29.344204Z"
    }
   },
   "outputs": [
    {
     "data": {
      "text/html": [
       "<div>\n",
       "<style scoped>\n",
       "    .dataframe tbody tr th:only-of-type {\n",
       "        vertical-align: middle;\n",
       "    }\n",
       "\n",
       "    .dataframe tbody tr th {\n",
       "        vertical-align: top;\n",
       "    }\n",
       "\n",
       "    .dataframe thead th {\n",
       "        text-align: right;\n",
       "    }\n",
       "</style>\n",
       "<table border=\"1\" class=\"dataframe\">\n",
       "  <thead>\n",
       "    <tr style=\"text-align: right;\">\n",
       "      <th></th>\n",
       "      <th>artistName</th>\n",
       "      <th>hours</th>\n",
       "    </tr>\n",
       "  </thead>\n",
       "  <tbody>\n",
       "    <tr>\n",
       "      <th>0</th>\n",
       "      <td>Led Zeppelin</td>\n",
       "      <td>52.0</td>\n",
       "    </tr>\n",
       "    <tr>\n",
       "      <th>1</th>\n",
       "      <td>AC/DC</td>\n",
       "      <td>50.0</td>\n",
       "    </tr>\n",
       "    <tr>\n",
       "      <th>2</th>\n",
       "      <td>The Beatles</td>\n",
       "      <td>27.0</td>\n",
       "    </tr>\n",
       "    <tr>\n",
       "      <th>3</th>\n",
       "      <td>The Rolling Stones</td>\n",
       "      <td>24.0</td>\n",
       "    </tr>\n",
       "    <tr>\n",
       "      <th>4</th>\n",
       "      <td>Black Sabbath</td>\n",
       "      <td>22.0</td>\n",
       "    </tr>\n",
       "    <tr>\n",
       "      <th>5</th>\n",
       "      <td>Dire Straits</td>\n",
       "      <td>20.0</td>\n",
       "    </tr>\n",
       "    <tr>\n",
       "      <th>6</th>\n",
       "      <td>The Who</td>\n",
       "      <td>13.0</td>\n",
       "    </tr>\n",
       "    <tr>\n",
       "      <th>7</th>\n",
       "      <td>Queen</td>\n",
       "      <td>13.0</td>\n",
       "    </tr>\n",
       "    <tr>\n",
       "      <th>8</th>\n",
       "      <td>Aerosmith</td>\n",
       "      <td>13.0</td>\n",
       "    </tr>\n",
       "    <tr>\n",
       "      <th>9</th>\n",
       "      <td>Eric Clapton</td>\n",
       "      <td>12.0</td>\n",
       "    </tr>\n",
       "  </tbody>\n",
       "</table>\n",
       "</div>"
      ],
      "text/plain": [
       "           artistName  hours\n",
       "0        Led Zeppelin   52.0\n",
       "1               AC/DC   50.0\n",
       "2         The Beatles   27.0\n",
       "3  The Rolling Stones   24.0\n",
       "4       Black Sabbath   22.0\n",
       "5        Dire Straits   20.0\n",
       "6             The Who   13.0\n",
       "7               Queen   13.0\n",
       "8           Aerosmith   13.0\n",
       "9        Eric Clapton   12.0"
      ]
     },
     "execution_count": 22,
     "metadata": {},
     "output_type": "execute_result"
    }
   ],
   "source": [
    "# agrupando os dados por artistas e horas\n",
    "top_10_bandas = top_10_bandas.groupby(['artistName']).sum().round(0).sort_values(\n",
    "    by='hours', ascending=False).head(10).reset_index()\n",
    "# visualizando os dados\n",
    "top_10_bandas"
   ]
  },
  {
   "cell_type": "markdown",
   "metadata": {
    "ExecuteTime": {
     "end_time": "2021-06-26T21:57:20.957967Z",
     "start_time": "2021-06-26T21:57:20.943972Z"
    },
    "id": "FQnh4e2IPnIq"
   },
   "source": [
    "### Gráficos das Bandas Mais Tocadas"
   ]
  },
  {
   "cell_type": "markdown",
   "metadata": {
    "id": "XXOKsrXgPnIq"
   },
   "source": [
    "#### Seaborn"
   ]
  },
  {
   "cell_type": "code",
   "execution_count": 23,
   "metadata": {
    "ExecuteTime": {
     "end_time": "2021-10-05T15:33:30.163938Z",
     "start_time": "2021-10-05T15:33:29.393073Z"
    },
    "id": "SlHSwCn4PnIq",
    "outputId": "73a23b75-910a-4817-df04-084d2de61ca5"
   },
   "outputs": [
    {
     "data": {
      "image/png": "[encoded data removed]",
      "text/plain": [
       "<Figure size 1440x504 with 1 Axes>"
      ]
     },
     "metadata": {},
     "output_type": "display_data"
    }
   ],
   "source": [
    "# Definindo variáveis\n",
    "artista = top_10_bandas.artistName\n",
    "horas = top_10_bandas.hours\n",
    "\n",
    "# setando tamanho do gráfico\n",
    "ax = plt.subplots(figsize=(20, 7))\n",
    "# atribuindo dados ao gráfico\n",
    "ax = sns.barplot(\n",
    "    x=artista,\n",
    "    y=horas,\n",
    "    palette=\"GnBu_r\",\n",
    ")\n",
    "# setando titulo\n",
    "ax = plt.title('As 10 Bandas Mais Tocadas entre {} e {}'.format(inicio, fim), fontsize=20)\n",
    "# setando titulo do eixo x\n",
    "ax = plt.xlabel('Artistas', fontsize=18, labelpad=18)\n",
    "# setando titulo do eixo y\n",
    "ax = plt.ylabel(\"Horas\", fontsize=18)\n",
    "# setando tamanho da fonte do eixo x\n",
    "ax = plt.xticks(size=14)\n",
    "# setando escala da eixo y\n",
    "ax = plt.yticks(range(0,75, 15), size=15)\n",
    "# removendo grade do gráfico\n",
    "ax = plt.grid(False)\n",
    "# definindo variáveis de anotações do gráfico\n",
    "n = range(top_10_bandas.shape[0])\n",
    "s = top_10_bandas.hours.values\n",
    "# criando função para a visualização dos valores na barra\n",
    "for i in range(len(s)):\n",
    "    plt.annotate(\"{} Horas\".format(int(s[i])),\n",
    "                 xy=(n[i], s[i] * 1.01),\n",
    "                 fontsize=14,\n",
    "                 ha='center',\n",
    "                 fontweight='bold',\n",
    "                 va='bottom')\n",
    "    \n",
    "ax = ax    \n",
    "\n",
    "# salvando imagem do gráfico     \n",
    "plt.savefig('imagens/as bandas mais tocadas.png', bbox_inches='tight')"
   ]
  },
  {
   "cell_type": "markdown",
   "metadata": {
    "id": "MXryWptgPnIs"
   },
   "source": [
    "## Verificando quais foram as musicas mais tocadas"
   ]
  },
  {
   "cell_type": "code",
   "execution_count": 24,
   "metadata": {
    "ExecuteTime": {
     "end_time": "2021-10-05T15:33:30.242663Z",
     "start_time": "2021-10-05T15:33:30.167857Z"
    },
    "id": "7WHVJ5PYPnIs",
    "outputId": "5d2fe59c-89cc-441b-8ed6-2103826e2a51"
   },
   "outputs": [
    {
     "data": {
      "text/html": [
       "<div>\n",
       "<style scoped>\n",
       "    .dataframe tbody tr th:only-of-type {\n",
       "        vertical-align: middle;\n",
       "    }\n",
       "\n",
       "    .dataframe tbody tr th {\n",
       "        vertical-align: top;\n",
       "    }\n",
       "\n",
       "    .dataframe thead th {\n",
       "        text-align: right;\n",
       "    }\n",
       "</style>\n",
       "<table border=\"1\" class=\"dataframe\">\n",
       "  <thead>\n",
       "    <tr style=\"text-align: right;\">\n",
       "      <th></th>\n",
       "      <th>trackName</th>\n",
       "      <th>artistName</th>\n",
       "      <th>hours</th>\n",
       "    </tr>\n",
       "  </thead>\n",
       "  <tbody>\n",
       "    <tr>\n",
       "      <th>0</th>\n",
       "      <td>Stairway to Heaven - Remaster</td>\n",
       "      <td>Led Zeppelin</td>\n",
       "      <td>6.0</td>\n",
       "    </tr>\n",
       "    <tr>\n",
       "      <th>1</th>\n",
       "      <td>Hey, Hey, What Can I Do - Remaster</td>\n",
       "      <td>Led Zeppelin</td>\n",
       "      <td>5.0</td>\n",
       "    </tr>\n",
       "    <tr>\n",
       "      <th>2</th>\n",
       "      <td>When the Levee Breaks - Remaster</td>\n",
       "      <td>Led Zeppelin</td>\n",
       "      <td>5.0</td>\n",
       "    </tr>\n",
       "    <tr>\n",
       "      <th>3</th>\n",
       "      <td>Since I've Been Loving You - Remaster</td>\n",
       "      <td>Led Zeppelin</td>\n",
       "      <td>4.0</td>\n",
       "    </tr>\n",
       "    <tr>\n",
       "      <th>4</th>\n",
       "      <td>Won't Get Fooled Again - Original Album Version</td>\n",
       "      <td>The Who</td>\n",
       "      <td>4.0</td>\n",
       "    </tr>\n",
       "    <tr>\n",
       "      <th>5</th>\n",
       "      <td>Sultans Of Swing - Live At Hammersmith Odeon, ...</td>\n",
       "      <td>Dire Straits</td>\n",
       "      <td>4.0</td>\n",
       "    </tr>\n",
       "    <tr>\n",
       "      <th>6</th>\n",
       "      <td>Babe I'm Gonna Leave You - Remaster</td>\n",
       "      <td>Led Zeppelin</td>\n",
       "      <td>4.0</td>\n",
       "    </tr>\n",
       "    <tr>\n",
       "      <th>7</th>\n",
       "      <td>Heaven and Hell - 2009 Remaster</td>\n",
       "      <td>Black Sabbath</td>\n",
       "      <td>4.0</td>\n",
       "    </tr>\n",
       "    <tr>\n",
       "      <th>8</th>\n",
       "      <td>Shoot to Thrill</td>\n",
       "      <td>AC/DC</td>\n",
       "      <td>4.0</td>\n",
       "    </tr>\n",
       "    <tr>\n",
       "      <th>9</th>\n",
       "      <td>Stairway to Heaven - (Live at MSG 1973) [Remas...</td>\n",
       "      <td>Led Zeppelin</td>\n",
       "      <td>4.0</td>\n",
       "    </tr>\n",
       "  </tbody>\n",
       "</table>\n",
       "</div>"
      ],
      "text/plain": [
       "                                           trackName     artistName  hours\n",
       "0                      Stairway to Heaven - Remaster   Led Zeppelin    6.0\n",
       "1                 Hey, Hey, What Can I Do - Remaster   Led Zeppelin    5.0\n",
       "2                   When the Levee Breaks - Remaster   Led Zeppelin    5.0\n",
       "3              Since I've Been Loving You - Remaster   Led Zeppelin    4.0\n",
       "4    Won't Get Fooled Again - Original Album Version        The Who    4.0\n",
       "5  Sultans Of Swing - Live At Hammersmith Odeon, ...   Dire Straits    4.0\n",
       "6                Babe I'm Gonna Leave You - Remaster   Led Zeppelin    4.0\n",
       "7                    Heaven and Hell - 2009 Remaster  Black Sabbath    4.0\n",
       "8                                    Shoot to Thrill          AC/DC    4.0\n",
       "9  Stairway to Heaven - (Live at MSG 1973) [Remas...   Led Zeppelin    4.0"
      ]
     },
     "execution_count": 24,
     "metadata": {},
     "output_type": "execute_result"
    }
   ],
   "source": [
    "# criando um query a partir dos artirtas \n",
    "artist = spotify.query(f'artistName == {artists}')[[\n",
    "    'artistName', 'hours', 'trackName'\n",
    "]]\n",
    "\n",
    "# agruprando os dados pelas musicas e suas horas tocadas\n",
    "as_mais_tocadas = artist.groupby(['trackName', 'artistName'])[[\n",
    "    'hours'\n",
    "]].sum().round(0).sort_values(by='hours', ascending=False).reset_index().head(10)\n",
    "\n",
    "# visualizando dados\n",
    "as_mais_tocadas"
   ]
  },
  {
   "cell_type": "markdown",
   "metadata": {
    "id": "st_rfSeGUzGH"
   },
   "source": [
    "### Gráficos das musicas mais tocadas"
   ]
  },
  {
   "cell_type": "markdown",
   "metadata": {
    "id": "iZmsfTQ2PnIs"
   },
   "source": [
    "* Quebrando o texto para adicionar ao labels do gráfico"
   ]
  },
  {
   "cell_type": "code",
   "execution_count": 25,
   "metadata": {
    "ExecuteTime": {
     "end_time": "2021-10-05T15:33:30.258615Z",
     "start_time": "2021-10-05T15:33:30.247643Z"
    },
    "id": "8o4t214DPnIs"
   },
   "outputs": [],
   "source": [
    "# filtrando apenas os nomes das musicas\n",
    "labels = as_mais_tocadas.trackName.values.tolist()\n",
    "# Criando uma função para quebrar o texto depois de 20 caracteres\n",
    "labels= ['\\n'. join(wrap(l,20)) for l in labels ]"
   ]
  },
  {
   "cell_type": "code",
   "execution_count": 26,
   "metadata": {
    "ExecuteTime": {
     "end_time": "2021-10-05T15:33:31.445293Z",
     "start_time": "2021-10-05T15:33:30.266593Z"
    },
    "id": "yHVHCGeWPnIt",
    "outputId": "0fabb75f-ed58-4233-a233-cc1095895866"
   },
   "outputs": [
    {
     "data": {
      "image/png": "[encoded data removed]",
      "text/plain": [
       "<Figure size 3096x720 with 1 Axes>"
      ]
     },
     "metadata": {},
     "output_type": "display_data"
    }
   ],
   "source": [
    "# Definindo variáveis\n",
    "musicas = as_mais_tocadas.trackName\n",
    "horas = as_mais_tocadas.hours\n",
    "\n",
    "# setando tamanho do gráfico\n",
    "ax = plt.subplots(figsize=(43, 10))\n",
    "# atribuindo dados ao gráfico\n",
    "ax = sns.barplot(\n",
    "    x=musicas,\n",
    "    y=horas,\n",
    "    palette=\"Blues_r\"\n",
    ")\n",
    "# setando titulo\n",
    "ax = plt.title('As Musicas mais escutadas entre {} até {}'.format(inicio[3:], fim[3:]),fontsize=45)\n",
    "# setando titulo do eixo x\n",
    "ax = plt.xlabel('Musicas', fontsize=29, labelpad=18)\n",
    "# setando titulo do eixo y\n",
    "ax = plt.ylabel(\"Horas\", fontsize=35)\n",
    "# setando tamanho da fonte do eixo x\n",
    "ax = plt.xticks(range(len(labels)), labels, size=24, rotation=0)\n",
    "# setando escala da eixo y\n",
    "ax = plt.yticks(range(0,10, 3), size=30)\n",
    "\n",
    "# definindo variáveis de anotações do gráfico\n",
    "ax = plt.grid(False)\n",
    "n = range(as_mais_tocadas.shape[0])\n",
    "s = as_mais_tocadas.hours.values.round()\n",
    "# criando função para a visualização dos valores na barra\n",
    "for i in range(len(s)):\n",
    "    plt.annotate(\"{} Horas\".format(int(s[i])),\n",
    "                 xy=(n[i], s[i] * 1.03),\n",
    "                 fontsize=26,\n",
    "                 fontweight='bold',\n",
    "                 ha='center',\n",
    "                 va='baseline')\n",
    "    \n",
    "ax = ax\n",
    "\n",
    "# salvando imagem do gráfico  \n",
    "plt.savefig('imagens/as musicas mais escutadas.png', bbox_inches='tight')"
   ]
  },
  {
   "cell_type": "markdown",
   "metadata": {
    "id": "K-daDlxBPnIt"
   },
   "source": [
    "## Verificando quais foram os Podcasts mais escutados"
   ]
  },
  {
   "cell_type": "markdown",
   "metadata": {
    "id": "RVCwGIhaPnIt"
   },
   "source": [
    "* Assim como fiz para a criação de uma lista com os nomes dos artistas que escuto, irei fazer o mesmo com os Podcasts, criando uma lista apenas com os nomes a partir de uma novos arquivo."
   ]
  },
  {
   "cell_type": "code",
   "execution_count": 27,
   "metadata": {
    "ExecuteTime": {
     "end_time": "2021-10-05T15:33:31.477207Z",
     "start_time": "2021-10-05T15:33:31.453273Z"
    },
    "id": "BG0odq8TPnIu",
    "tags": []
   },
   "outputs": [
    {
     "data": {
      "text/plain": [
       "['Data Hackers',\n",
       " 'Do Zero ao Topo',\n",
       " 'Hipsters Ponto Tech',\n",
       " 'Inteligência Ltda.',\n",
       " \"Let's Data Podcast\",\n",
       " 'Mauricio Meirelles Podcast',\n",
       " 'Muito Risco Pouco Ego',\n",
       " 'NerdCast',\n",
       " 'Não Ouvo Podcasts',\n",
       " 'Os Sócios Podcast',\n",
       " 'Podpah',\n",
       " 'Primocast',\n",
       " 'Pro Football | NFL',\n",
       " 'Sinapse',\n",
       " 'Stack | Datacast',\n",
       " 'Stock Pickers',\n",
       " 'Ticaracaticast',\n",
       " 'Flow Podcast']"
      ]
     },
     "execution_count": 27,
     "metadata": {},
     "output_type": "execute_result"
    }
   ],
   "source": [
    "# criando uma lista apenas com o nome de cada podcasts usando o método json_nomalize\n",
    "podcasts = list(pd.json_normalize(data, 'shows')['name'])\n",
    "\n",
    "# visualizando lista de podcasts\n",
    "podcasts"
   ]
  },
  {
   "cell_type": "code",
   "execution_count": 28,
   "metadata": {
    "ExecuteTime": {
     "end_time": "2021-10-05T15:33:31.540041Z",
     "start_time": "2021-10-05T15:33:31.482194Z"
    },
    "id": "ELFf7JXCPnIv",
    "outputId": "c6949dd6-1c04-456c-cfbe-9a3fcc6e5b33"
   },
   "outputs": [
    {
     "data": {
      "text/html": [
       "<div>\n",
       "<style scoped>\n",
       "    .dataframe tbody tr th:only-of-type {\n",
       "        vertical-align: middle;\n",
       "    }\n",
       "\n",
       "    .dataframe tbody tr th {\n",
       "        vertical-align: top;\n",
       "    }\n",
       "\n",
       "    .dataframe thead th {\n",
       "        text-align: right;\n",
       "    }\n",
       "</style>\n",
       "<table border=\"1\" class=\"dataframe\">\n",
       "  <thead>\n",
       "    <tr style=\"text-align: right;\">\n",
       "      <th></th>\n",
       "      <th>podcasts</th>\n",
       "      <th>hours</th>\n",
       "    </tr>\n",
       "  </thead>\n",
       "  <tbody>\n",
       "    <tr>\n",
       "      <th>0</th>\n",
       "      <td>Inteligência Ltda.</td>\n",
       "      <td>155</td>\n",
       "    </tr>\n",
       "    <tr>\n",
       "      <th>1</th>\n",
       "      <td>Flow Podcast</td>\n",
       "      <td>72</td>\n",
       "    </tr>\n",
       "    <tr>\n",
       "      <th>2</th>\n",
       "      <td>NerdCast</td>\n",
       "      <td>62</td>\n",
       "    </tr>\n",
       "    <tr>\n",
       "      <th>3</th>\n",
       "      <td>Primocast</td>\n",
       "      <td>26</td>\n",
       "    </tr>\n",
       "    <tr>\n",
       "      <th>4</th>\n",
       "      <td>Pro Football | NFL</td>\n",
       "      <td>25</td>\n",
       "    </tr>\n",
       "    <tr>\n",
       "      <th>5</th>\n",
       "      <td>Stock Pickers</td>\n",
       "      <td>23</td>\n",
       "    </tr>\n",
       "    <tr>\n",
       "      <th>6</th>\n",
       "      <td>Hipsters Ponto Tech</td>\n",
       "      <td>19</td>\n",
       "    </tr>\n",
       "    <tr>\n",
       "      <th>7</th>\n",
       "      <td>Data Hackers</td>\n",
       "      <td>15</td>\n",
       "    </tr>\n",
       "    <tr>\n",
       "      <th>8</th>\n",
       "      <td>Não Ouvo Podcasts</td>\n",
       "      <td>14</td>\n",
       "    </tr>\n",
       "    <tr>\n",
       "      <th>9</th>\n",
       "      <td>Mauricio Meirelles Podcast</td>\n",
       "      <td>14</td>\n",
       "    </tr>\n",
       "  </tbody>\n",
       "</table>\n",
       "</div>"
      ],
      "text/plain": [
       "                     podcasts  hours\n",
       "0          Inteligência Ltda.    155\n",
       "1                Flow Podcast     72\n",
       "2                    NerdCast     62\n",
       "3                   Primocast     26\n",
       "4          Pro Football | NFL     25\n",
       "5               Stock Pickers     23\n",
       "6         Hipsters Ponto Tech     19\n",
       "7                Data Hackers     15\n",
       "8           Não Ouvo Podcasts     14\n",
       "9  Mauricio Meirelles Podcast     14"
      ]
     },
     "execution_count": 28,
     "metadata": {},
     "output_type": "execute_result"
    }
   ],
   "source": [
    "# criando uma query apenas com os Podcasts\n",
    "query = spotify.query(f'artistName == {podcasts}')[['artistName', 'hours']]\n",
    "\n",
    "# agrupando dados\n",
    "podcasts_mais_tocados = query.groupby([\n",
    "    'artistName'\n",
    "]).sum().round(0).sort_values(by='hours',\n",
    "                              ascending=False).head(10).reset_index()\n",
    "# renomeando coluna\n",
    "podcasts_mais_tocados.rename(columns={\"artistName\": \"podcasts\"}, inplace=True)\n",
    "# alterando tipo da coluna\n",
    "podcasts_mais_tocados.hours = podcasts_mais_tocados.hours.astype('int')\n",
    "# visualizando dados\n",
    "podcasts_mais_tocados"
   ]
  },
  {
   "cell_type": "code",
   "execution_count": 29,
   "metadata": {
    "ExecuteTime": {
     "end_time": "2021-10-05T15:33:31.555995Z",
     "start_time": "2021-10-05T15:33:31.547021Z"
    }
   },
   "outputs": [],
   "source": [
    "# filtrando apenas os nomes das musicas\n",
    "labels1 = podcasts_mais_tocados.podcasts.values.tolist()\n",
    "# Criando uma função para quebrar o texto\n",
    "labels1= ['\\n'. join(wrap(l,12)) for l in labels1 ]"
   ]
  },
  {
   "cell_type": "markdown",
   "metadata": {},
   "source": [
    "### Gráfico dos Podcasts mais tocados entre 06/2020 e 06/2021"
   ]
  },
  {
   "cell_type": "code",
   "execution_count": 30,
   "metadata": {
    "ExecuteTime": {
     "end_time": "2021-10-05T15:33:32.396967Z",
     "start_time": "2021-10-05T15:33:31.562982Z"
    }
   },
   "outputs": [
    {
     "data": {
      "image/png": "[encoded data removed]",
      "text/plain": [
       "<Figure size 1584x504 with 1 Axes>"
      ]
     },
     "metadata": {},
     "output_type": "display_data"
    }
   ],
   "source": [
    "# sentado tamnho do gráfico\n",
    "ax = plt.subplots(figsize=(22, 7))\n",
    "# atribuindo dados ao gráfico\n",
    "ax = sns.barplot(x='podcasts', y='hours', data=podcasts_mais_tocados, palette=\"Blues_r\")\n",
    "# setando titulo\n",
    "ax = plt.title('Os Podcasts mais tocados entre {} e {}'.format(inicio[3:],fim[3:]), fontsize=25)\n",
    "# setando titulo do eixo x\n",
    "ax = plt.xlabel('Podcasts', fontsize=18, labelpad=5)\n",
    "# setando titulo do eixo y\n",
    "ax = plt.ylabel(\"Horas\", fontsize=18)\n",
    "# setando tamanho da fonte do eixo x\n",
    "ax = plt.xticks(range(len(labels1)), labels1, size=18, rotation=0)\n",
    "# setando escala do eixo y\n",
    "ax = plt.yticks(range(0,250, 50), size=15)\n",
    "# definindo variáveis de anotações do gráfico\n",
    "ax = plt.grid(False)\n",
    "# definindo variáveis de anotações do gráfico\n",
    "n = range(podcasts_mais_tocados.shape[0])\n",
    "s = podcasts_mais_tocados.hours\n",
    "# criando função para a visualização dos valores na barra\n",
    "for i in range(len(s)):\n",
    "    plt.annotate(\"{} Horas\".format(int(s[i])),\n",
    "                 xy=(n[i], s[i] * 1.02),\n",
    "                 fontsize=16,\n",
    "                 fontweight='bold',\n",
    "                 ha='center',\n",
    "                 va='bottom')\n",
    "\n",
    "ax = ax \n",
    "  \n",
    "# salvando imagem do gráfico\n",
    "plt.savefig('imagens/Podcasts mais tocados entre 06-2020 e 06-2021.png', bbox_inches='tight')"
   ]
  },
  {
   "cell_type": "markdown",
   "metadata": {
    "id": "NlF6jHGEPnIv"
   },
   "source": [
    "## Podcasts mais tocados nos últimos 6 meses."
   ]
  },
  {
   "cell_type": "code",
   "execution_count": 31,
   "metadata": {
    "ExecuteTime": {
     "end_time": "2021-10-05T15:33:32.459319Z",
     "start_time": "2021-10-05T15:33:32.402952Z"
    },
    "id": "mcnkLvK7PnIw",
    "outputId": "8a93f249-d6d0-47f9-d91d-ed12220ccea3",
    "scrolled": true
   },
   "outputs": [
    {
     "data": {
      "text/html": [
       "<div>\n",
       "<style scoped>\n",
       "    .dataframe tbody tr th:only-of-type {\n",
       "        vertical-align: middle;\n",
       "    }\n",
       "\n",
       "    .dataframe tbody tr th {\n",
       "        vertical-align: top;\n",
       "    }\n",
       "\n",
       "    .dataframe thead th {\n",
       "        text-align: right;\n",
       "    }\n",
       "</style>\n",
       "<table border=\"1\" class=\"dataframe\">\n",
       "  <thead>\n",
       "    <tr style=\"text-align: right;\">\n",
       "      <th></th>\n",
       "      <th>podcasts</th>\n",
       "      <th>hours</th>\n",
       "    </tr>\n",
       "  </thead>\n",
       "  <tbody>\n",
       "    <tr>\n",
       "      <th>0</th>\n",
       "      <td>Inteligência Ltda.</td>\n",
       "      <td>153</td>\n",
       "    </tr>\n",
       "    <tr>\n",
       "      <th>1</th>\n",
       "      <td>Flow Podcast</td>\n",
       "      <td>43</td>\n",
       "    </tr>\n",
       "    <tr>\n",
       "      <th>2</th>\n",
       "      <td>NerdCast</td>\n",
       "      <td>24</td>\n",
       "    </tr>\n",
       "    <tr>\n",
       "      <th>3</th>\n",
       "      <td>Hipsters Ponto Tech</td>\n",
       "      <td>11</td>\n",
       "    </tr>\n",
       "    <tr>\n",
       "      <th>4</th>\n",
       "      <td>Mauricio Meirelles Podcast</td>\n",
       "      <td>11</td>\n",
       "    </tr>\n",
       "    <tr>\n",
       "      <th>5</th>\n",
       "      <td>Os Sócios Podcast</td>\n",
       "      <td>9</td>\n",
       "    </tr>\n",
       "    <tr>\n",
       "      <th>6</th>\n",
       "      <td>Primocast</td>\n",
       "      <td>7</td>\n",
       "    </tr>\n",
       "    <tr>\n",
       "      <th>7</th>\n",
       "      <td>Sinapse</td>\n",
       "      <td>7</td>\n",
       "    </tr>\n",
       "    <tr>\n",
       "      <th>8</th>\n",
       "      <td>Podpah</td>\n",
       "      <td>5</td>\n",
       "    </tr>\n",
       "    <tr>\n",
       "      <th>9</th>\n",
       "      <td>Pro Football | NFL</td>\n",
       "      <td>5</td>\n",
       "    </tr>\n",
       "  </tbody>\n",
       "</table>\n",
       "</div>"
      ],
      "text/plain": [
       "                     podcasts  hours\n",
       "0          Inteligência Ltda.    153\n",
       "1                Flow Podcast     43\n",
       "2                    NerdCast     24\n",
       "3         Hipsters Ponto Tech     11\n",
       "4  Mauricio Meirelles Podcast     11\n",
       "5           Os Sócios Podcast      9\n",
       "6                   Primocast      7\n",
       "7                     Sinapse      7\n",
       "8                      Podpah      5\n",
       "9          Pro Football | NFL      5"
      ]
     },
     "execution_count": 31,
     "metadata": {},
     "output_type": "execute_result"
    }
   ],
   "source": [
    "# criando uma query apenas com os Podcasts\n",
    "query1 = spotify.query(f'artistName == {podcasts} & year == 2021')[['artistName', 'hours']]\n",
    "\n",
    "# agrupando dados\n",
    "podcasts_mais_tocados_2021 = query1.groupby([\n",
    "    'artistName'\n",
    "]).sum().round(0).sort_values(by='hours',\n",
    "                              ascending=False).head(10).reset_index()\n",
    "# renomeando coluna\n",
    "podcasts_mais_tocados_2021.rename(columns={\"artistName\": \"podcasts\"}, inplace=True)\n",
    "# alterando tipo da coluna\n",
    "podcasts_mais_tocados_2021.hours = podcasts_mais_tocados_2021.hours.astype('int')\n",
    "# visualizando dados\n",
    "podcasts_mais_tocados_2021"
   ]
  },
  {
   "cell_type": "markdown",
   "metadata": {
    "id": "JQlN_sp5PnIw"
   },
   "source": [
    "* **Com a análise acima podemos ver que a diferença do primeiro podcast mais ecutado para o restando é muito grande, diante disso irei fazer uma comparação entre o primeiro mais escutado e todos os outros podcasts.**"
   ]
  },
  {
   "cell_type": "code",
   "execution_count": 32,
   "metadata": {
    "ExecuteTime": {
     "end_time": "2021-10-05T15:33:32.491235Z",
     "start_time": "2021-10-05T15:33:32.466306Z"
    },
    "id": "BkngrBddPnIw",
    "outputId": "f46399a2-bf93-4163-a2d0-104f274dc8ee",
    "scrolled": true
   },
   "outputs": [
    {
     "name": "stdout",
     "output_type": "stream",
     "text": [
      "153 Horas escutadas de Inteligência_Ltda e 122 dos outros Podcasts \n"
     ]
    }
   ],
   "source": [
    "# somando totado de horas escutadas\n",
    "total_por_podcast = podcasts_mais_tocados_2021['hours'].sum()\n",
    "# filtrando as horas do podcast mais tocado\n",
    "total_Inteligência_Ltda = podcasts_mais_tocados_2021.query(\"podcasts == 'Inteligência Ltda.'\").values[0][1]\n",
    "# somando valor dos podcasts restantes\n",
    "total_por_resto = total_por_podcast - total_Inteligência_Ltda \n",
    "# visualizando \n",
    "print('{} Horas escutadas de Inteligência_Ltda e {} dos outros Podcasts '.format(total_Inteligência_Ltda, total_por_resto))"
   ]
  },
  {
   "cell_type": "markdown",
   "metadata": {
    "id": "hgLB1tm1PnIw"
   },
   "source": [
    "### Gráfico dos Podcasts mais tocados nos últimos 6 meses"
   ]
  },
  {
   "cell_type": "code",
   "execution_count": 33,
   "metadata": {
    "ExecuteTime": {
     "end_time": "2021-10-05T15:33:32.523152Z",
     "start_time": "2021-10-05T15:33:32.498218Z"
    }
   },
   "outputs": [
    {
     "data": {
      "text/html": [
       "<div>\n",
       "<style scoped>\n",
       "    .dataframe tbody tr th:only-of-type {\n",
       "        vertical-align: middle;\n",
       "    }\n",
       "\n",
       "    .dataframe tbody tr th {\n",
       "        vertical-align: top;\n",
       "    }\n",
       "\n",
       "    .dataframe thead th {\n",
       "        text-align: right;\n",
       "    }\n",
       "</style>\n",
       "<table border=\"1\" class=\"dataframe\">\n",
       "  <thead>\n",
       "    <tr style=\"text-align: right;\">\n",
       "      <th></th>\n",
       "      <th>podcasts</th>\n",
       "      <th>hours</th>\n",
       "    </tr>\n",
       "  </thead>\n",
       "  <tbody>\n",
       "    <tr>\n",
       "      <th>0</th>\n",
       "      <td>Outros</td>\n",
       "      <td>122</td>\n",
       "    </tr>\n",
       "    <tr>\n",
       "      <th>1</th>\n",
       "      <td>Inteligência Ltda.</td>\n",
       "      <td>153</td>\n",
       "    </tr>\n",
       "  </tbody>\n",
       "</table>\n",
       "</div>"
      ],
      "text/plain": [
       "             podcasts  hours\n",
       "0              Outros    122\n",
       "1  Inteligência Ltda.    153"
      ]
     },
     "execution_count": 33,
     "metadata": {},
     "output_type": "execute_result"
    }
   ],
   "source": [
    "# criando um dicionário\n",
    "dados = {\n",
    "    'podcasts': [\"Outros\", \"Inteligência Ltda.\"],\n",
    "    'hours': [total_por_resto, total_Inteligência_Ltda]\n",
    "}\n",
    "\n",
    "# transformando em um df\n",
    "dados = pd.DataFrame(dados)\n",
    "\n",
    "# visualizando dados\n",
    "dados"
   ]
  },
  {
   "cell_type": "code",
   "execution_count": 34,
   "metadata": {
    "ExecuteTime": {
     "end_time": "2021-10-05T15:33:33.094143Z",
     "start_time": "2021-10-05T15:33:32.530135Z"
    },
    "id": "XzRdnHX3PnIw",
    "outputId": "7297251c-9c03-4242-cead-aded1fe5d4fd",
    "scrolled": false
   },
   "outputs": [
    {
     "data": {
      "image/png": "[encoded data removed]",
      "text/plain": [
       "<Figure size 576x504 with 1 Axes>"
      ]
     },
     "metadata": {},
     "output_type": "display_data"
    }
   ],
   "source": [
    "# sentado tamnho do gráfico\n",
    "ax = plt.subplots(figsize=(8, 7))\n",
    "# atribuindo dados ao gráfico\n",
    "ax = sns.barplot(x='podcasts', y='hours', data=dados, palette=\"Blues_d\")\n",
    "# setando titulo\n",
    "ax = plt.title('Inteligência Ltda x Outros\\n (Nos últimos 6 meses)', fontsize=20)\n",
    "# setando titulo do eixo x\n",
    "ax = plt.xlabel('Podcasts', fontsize=18, labelpad=18)\n",
    "# setando titulo do eixo y\n",
    "ax = plt.ylabel(\"Horas\", fontsize=18)\n",
    "# setando parametros do eixo x\n",
    "ax = plt.xticks(size=17, rotation=0)\n",
    "# setando escala do eixo y\n",
    "ax = plt.yticks(range(0,250, 50))\n",
    "# definindo variáveis de anotações do gráfico\n",
    "ax = plt.grid(False)\n",
    "# definindo variáveis de anotações do gráfico\n",
    "n = range(dados.shape[0])\n",
    "s = dados.hours\n",
    "# criando função para a visualização dos valores na barra\n",
    "for i in range(len(s)):\n",
    "    plt.annotate(\"{} Horas\".format(int(s[i])),\n",
    "                 xy=(n[i], s[i] * 1.02),\n",
    "                 fontsize=14,\n",
    "                 fontweight='bold',\n",
    "                 ha='center',\n",
    "                 va='bottom')\n",
    "\n",
    "ax = ax\n",
    "\n",
    "# salvando imagem do gráfico\n",
    "plt.savefig('imagens/Podcasts mais tocados nos últimos 6 meses.png', bbox_inches='tight')"
   ]
  }
 ],
 "metadata": {
  "colab": {
   "collapsed_sections": [],
   "name": "EDA _Dados_Spotify.ipynb",
   "provenance": [],
   "toc_visible": true
  },
  "kernelspec": {
   "display_name": "Python 3",
   "language": "python",
   "name": "python3"
  },
  "language_info": {
   "codemirror_mode": {
    "name": "ipython",
    "version": 3
   },
   "file_extension": ".py",
   "mimetype": "text/x-python",
   "name": "python",
   "nbconvert_exporter": "python",
   "pygments_lexer": "ipython3",
   "version": "3.9.7"
  },
  "toc": {
   "base_numbering": 1,
   "nav_menu": {},
   "number_sections": true,
   "sideBar": true,
   "skip_h1_title": false,
   "title_cell": "Table of Contents",
   "title_sidebar": "Contents",
   "toc_cell": false,
   "toc_position": {},
   "toc_section_display": true,
   "toc_window_display": false
  },
  "varInspector": {
   "cols": {
    "lenName": 16,
    "lenType": 16,
    "lenVar": 40
   },
   "kernels_config": {
    "python": {
     "delete_cmd_postfix": "",
     "delete_cmd_prefix": "del ",
     "library": "var_list.py",
     "varRefreshCmd": "print(var_dic_list())"
    },
    "r": {
     "delete_cmd_postfix": ") ",
     "delete_cmd_prefix": "rm(",
     "library": "var_list.r",
     "varRefreshCmd": "cat(var_dic_list()) "
    }
   },
   "types_to_exclude": [
    "module",
    "function",
    "builtin_function_or_method",
    "instance",
    "_Feature"
   ],
   "window_display": false
  }
 },
 "nbformat": 4,
 "nbformat_minor": 1
}
